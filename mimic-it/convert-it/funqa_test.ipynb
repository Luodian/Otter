{
 "cells": [
  {
   "cell_type": "code",
   "execution_count": 1,
   "metadata": {},
   "outputs": [],
   "source": [
    "import json\n",
    "import os\n",
    "import gc\n",
    "\n",
    "from abstract_dataset import AbstractDataset\n",
    "from PIL import Image\n",
    "from tqdm import tqdm\n",
    "from concurrent.futures import ThreadPoolExecutor\n",
    "from glob import glob\n",
    "from image_utils import frame_video, get_image_name, resize_image, image_to_bytes\n",
    "from natsort import natsorted"
   ]
  },
  {
   "cell_type": "code",
   "execution_count": null,
   "metadata": {},
   "outputs": [],
   "source": [
    "class FunQA(AbstractDataset):\n",
    "\tdef __init__(self, name: str, short_name: str, image_path: str, num_threads: int):\n",
    "\t\tsuper().__init__(name, short_name, image_path, num_threads)\n",
    "\tdef _load_images(self, image_path: str, num_thread: int) -> dict[str, bytes]:\n",
    "\t\treturn super()._load_images(image_path, num_thread)"
   ]
  },
  {
   "cell_type": "code",
   "execution_count": 3,
   "metadata": {},
   "outputs": [
    {
     "data": {
      "text/plain": [
       "85"
      ]
     },
     "execution_count": 3,
     "metadata": {},
     "output_type": "execute_result"
    }
   ],
   "source": [
    "videos = glob(f\"../../dataset/test/test_creative/*.mp4\")\n",
    "len(videos)"
   ]
  },
  {
   "cell_type": "code",
   "execution_count": null,
   "metadata": {},
   "outputs": [],
   "source": [
    "from pipeline.demo.otter_image import get_image\n",
    "\n",
    "results = {}\n",
    "process_bar = tqdm(total=len(videos), desc=\"Processing videos into images\", unit=\"video\")\n",
    "cnt = 0\n",
    "for video, framed_results in map(lambda x: (get_image_name(x), frame_video(x)), videos):\n",
    "\n",
    "    for index, result in enumerate(framed_results):\n",
    "        # print(\"video\", video)\n",
    "        name = video + \"_\" + str(index).zfill(4)\n",
    "        results[name] = result\n",
    "    process_bar.update(1)\n",
    "\n",
    "    cnt = cnt + 1\n",
    "    if cnt % 100 == 0:\n",
    "        gc.collect()\n",
    "process_bar.close()"
   ]
  },
  {
   "cell_type": "code",
   "execution_count": null,
   "metadata": {},
   "outputs": [],
   "source": [
    "from cv2 import cv2"
   ]
  }
 ],
 "metadata": {
  "kernelspec": {
   "display_name": "dp",
   "language": "python",
   "name": "python3"
  },
  "language_info": {
   "codemirror_mode": {
    "name": "ipython",
    "version": 3
   },
   "file_extension": ".py",
   "mimetype": "text/x-python",
   "name": "python",
   "nbconvert_exporter": "python",
   "pygments_lexer": "ipython3",
   "version": "3.11.4"
  },
  "orig_nbformat": 4
 },
 "nbformat": 4,
 "nbformat_minor": 2
}
