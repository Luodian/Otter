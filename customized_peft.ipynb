{
 "cells": [
  {
   "cell_type": "code",
   "execution_count": 3,
   "metadata": {},
   "outputs": [
    {
     "name": "stdout",
     "output_type": "stream",
     "text": [
      "\n",
      "===================================BUG REPORT===================================\n",
      "Welcome to bitsandbytes. For bug reports, please submit your error trace to: https://github.com/TimDettmers/bitsandbytes/issues\n",
      "================================================================================\n",
      "CUDA SETUP: CUDA runtime path found: /usr/local/cuda/lib64/libcudart.so\n",
      "CUDA SETUP: Highest compute capability among GPUs detected: 8.0\n",
      "CUDA SETUP: Detected CUDA version 113\n",
      "CUDA SETUP: Loading binary /anaconda/envs/openflamingo/lib/python3.9/site-packages/bitsandbytes/libbitsandbytes_cuda113.so...\n"
     ]
    },
    {
     "name": "stderr",
     "output_type": "stream",
     "text": [
      "/anaconda/envs/openflamingo/lib/python3.9/site-packages/bitsandbytes/cuda_setup/main.py:136: UserWarning: /anaconda/envs/openflamingo did not contain libcudart.so as expected! Searching further paths...\n",
      "  warn(msg)\n",
      "/anaconda/envs/openflamingo/lib/python3.9/site-packages/bitsandbytes/cuda_setup/main.py:136: UserWarning: WARNING: The following directories listed in your path were found to be non-existent: {PosixPath('/home/v-boli7/.local/lib/python3.9/site-packages/cv2/../../lib64'), PosixPath('/usr/local/cuda/extras/CUPTI/lib64')}\n",
      "  warn(msg)\n",
      "Using pad_token, but it is not set yet.\n",
      "Loading checkpoint shards: 100%|██████████| 33/33 [00:08<00:00,  4.00it/s]\n"
     ]
    },
    {
     "name": "stdout",
     "output_type": "stream",
     "text": [
      "Flamingo model initialized with 1309919248 trainable parameters\n",
      "Total number of trainable parameters in LoRA is 0.598016M\n"
     ]
    }
   ],
   "source": [
    "from open_flamingo import create_model_and_transforms\n",
    "from peft.src.peft import LoraModel, LoraConfig\n",
    "import torch\n",
    "\n",
    "model, image_processor, tokenizer = create_model_and_transforms(\n",
    "    clip_vision_encoder_path=\"ViT-L-14\", clip_vision_encoder_pretrained=\"openai\", lang_encoder_path=\"./llama-7b-hf\", tokenizer_path=\"./llama-7b-hf\", cross_attn_every_n_layers=4\n",
    ")\n",
    "\n",
    "checkpoint_path = \"/home/v-boli7/azure_storage/models/openflamingo/checkpoint.pt\"\n",
    "model.load_state_dict(torch.load(checkpoint_path), strict=False)\n",
    "\n",
    "config = LoraConfig(\n",
    "    peft_type=\"LORA\",\n",
    "    task_type=\"SEQ_2_SEQ_LM\",\n",
    "    r=8,\n",
    "    lora_alpha=32,\n",
    "    target_modules=[\"q\", \"v\"],\n",
    "    lora_dropout=0.01,\n",
    ")\n",
    "\n",
    "lora_model = LoraModel(config, model)\n",
    "\n",
    "total_params = sum(p.numel() for p in lora_model.parameters() if p.requires_grad)\n",
    "print(f\"Total number of trainable parameters in LoRA is {total_params / 1e6}M\")"
   ]
  },
  {
   "cell_type": "code",
   "execution_count": 4,
   "metadata": {},
   "outputs": [
    {
     "name": "stdout",
     "output_type": "stream",
     "text": [
      "['aok_vqa', 'avsd_dialogue', 'coco_caption', 'coco_retrieval', 'coco_vqa', 'conceptual_caption_12m', 'conceptual_caption_3m', 'didemo_retrieval', 'flickr30k', 'gqa', 'imagenet', 'laion2B_multi', 'msrvtt_caption', 'msrvtt_qa', 'msrvtt_retrieval', 'msvd_caption', 'msvd_qa', 'nlvr', 'nocaps', 'ok_vqa', 'sbu_caption', 'snli_ve', 'vatex_caption', 'vg_caption', 'vg_vqa']\n"
     ]
    }
   ],
   "source": [
    "from lavis.datasets.builders import dataset_zoo\n",
    "dataset_names = dataset_zoo.get_names()\n",
    "print(dataset_names)"
   ]
  },
  {
   "cell_type": "code",
   "execution_count": 5,
   "metadata": {},
   "outputs": [
    {
     "name": "stdout",
     "output_type": "stream",
     "text": [
      "Using downloaded and verified file: /home/v-boli7/azure_storage/data/lavis/coco/annotations/coco_karpathy_train.json\n",
      "Using downloaded and verified file: /home/v-boli7/azure_storage/data/lavis/coco/annotations/coco_karpathy_val.json\n",
      "Using downloaded and verified file: /home/v-boli7/azure_storage/data/lavis/coco/annotations/coco_karpathy_test.json\n",
      "{'image': <PIL.Image.Image image mode=RGB size=640x480 at 0x7F5BC45F02E0>, 'text_input': 'A woman wearing a net on her head cutting a cake. ', 'image_id': 0}\n",
      "<PIL.Image.Image image mode=RGB size=640x480 at 0x7F5BC45F02E0>\n",
      "A woman wearing a net on her head cutting a cake. \n",
      "[{'image': <PIL.Image.Image image mode=RGB size=640x480 at 0x7F5A8C1CB310>, 'text_input': 'A woman wearing a net on her head cutting a cake. ', 'image_id': 0}]\n"
     ]
    }
   ],
   "source": [
    "from lavis.datasets.builders import load_dataset\n",
    "\n",
    "coco_dataset = load_dataset(\"coco_caption\")\n",
    "coco_train_set = coco_dataset['train']\n",
    "for sample in coco_train_set:\n",
    "    print(sample)\n",
    "    print(sample['image'])\n",
    "    print(sample['text_input'])\n",
    "    break\n",
    "\n",
    "def collate_fn(batch):\n",
    "    return batch\n",
    "\n",
    "coco_train_loader = torch.utils.data.DataLoader(coco_train_set, batch_size=1, shuffle=False, num_workers=0, collate_fn=collate_fn)\n",
    "for batch in coco_train_loader:\n",
    "    print(batch)\n",
    "    break"
   ]
  },
  {
   "cell_type": "code",
   "execution_count": 25,
   "metadata": {},
   "outputs": [
    {
     "name": "stdout",
     "output_type": "stream",
     "text": [
      "Using downloaded and verified file: /home/v-boli7/azure_storage/data/lavis/aokvqa/annotations/aokvqa_v1p0_train.json\n",
      "Using downloaded and verified file: /home/v-boli7/azure_storage/data/lavis/aokvqa/annotations/aokvqa_v1p0_val.json\n",
      "Using downloaded and verified file: /home/v-boli7/azure_storage/data/lavis/aokvqa/annotations/specialized_vocab_train_lavis.json\n",
      "Using downloaded and verified file: /home/v-boli7/azure_storage/data/lavis/aokvqa/annotations/aokvqa_v1p0_test.json\n",
      "Using downloaded and verified file: /home/v-boli7/azure_storage/data/lavis/aokvqa/annotations/specialized_vocab_train_lavis.json\n",
      "{'image': <PIL.Image.Image image mode=RGB size=640x480 at 0x7FF489BECD00>, 'text_input': 'What is the man by the bags awaiting?', 'answers': ['ride', 'bus', 'taxi', 'travelling', 'traffic', 'cab', 'his ride'], 'weights': [0.2, 0.1, 0.2, 0.1, 0.1, 0.2, 0.1]}\n"
     ]
    }
   ],
   "source": [
    "aokvqa_dataset = load_dataset(\"aok_vqa\")\n",
    "aokvqa_train_set = aokvqa_dataset['train']\n",
    "for sample in aokvqa_train_set:\n",
    "    print(sample)\n",
    "    break"
   ]
  },
  {
   "cell_type": "code",
   "execution_count": 26,
   "metadata": {},
   "outputs": [
    {
     "name": "stdout",
     "output_type": "stream",
     "text": [
      "Using downloaded and verified file: /home/v-boli7/azure_storage/data/lavis/coco/annotations/vqa_train.json\n",
      "Using downloaded and verified file: /home/v-boli7/azure_storage/data/lavis/coco/annotations/vqa_val.json\n",
      "Using downloaded and verified file: /home/v-boli7/azure_storage/data/lavis/coco/annotations/vqa_val_eval.json\n",
      "Using downloaded and verified file: /home/v-boli7/azure_storage/data/lavis/coco/annotations/answer_list.json\n",
      "Using downloaded and verified file: /home/v-boli7/azure_storage/data/lavis/coco/annotations/v2_OpenEnded_mscoco_val2014_questions.json\n",
      "Using downloaded and verified file: /home/v-boli7/azure_storage/data/lavis/coco/annotations/v2_mscoco_val2014_annotations.json\n",
      "Using downloaded and verified file: /home/v-boli7/azure_storage/data/lavis/coco/annotations/vqa_test.json\n",
      "Using downloaded and verified file: /home/v-boli7/azure_storage/data/lavis/coco/annotations/answer_list.json\n",
      "{'image': <PIL.Image.Image image mode=RGB size=640x480 at 0x7FF4D6BCBD00>, 'text_input': 'What is this photo taken looking through?', 'answers': ['net', 'netting', 'mesh'], 'weights': [0.7999999999999999, 0.1, 0.1]}\n"
     ]
    }
   ],
   "source": [
    "coco_vqa_dataset = load_dataset(\"coco_vqa\")\n",
    "coco_vqa_train_set = coco_vqa_dataset['train']\n",
    "for sample in coco_vqa_train_set:\n",
    "    print(sample)\n",
    "    break"
   ]
  },
  {
   "cell_type": "code",
   "execution_count": 5,
   "metadata": {},
   "outputs": [
    {
     "name": "stdout",
     "output_type": "stream",
     "text": [
      "Using downloaded and verified file: /home/v-boli7/azure_storage/data/lavis/aokvqa/annotations/aokvqa_v1p0_train.json\n",
      "Using downloaded and verified file: /home/v-boli7/azure_storage/data/lavis/aokvqa/annotations/aokvqa_v1p0_val.json\n",
      "Using downloaded and verified file: /home/v-boli7/azure_storage/data/lavis/aokvqa/annotations/specialized_vocab_train_lavis.json\n",
      "Using downloaded and verified file: /home/v-boli7/azure_storage/data/lavis/aokvqa/annotations/aokvqa_v1p0_test.json\n",
      "Using downloaded and verified file: /home/v-boli7/azure_storage/data/lavis/aokvqa/annotations/specialized_vocab_train_lavis.json\n",
      "dict_keys(['train', 'val', 'test'])\n",
      "17056\n",
      "{'image': <PIL.Image.Image image mode=RGB size=640x480 at 0x7FE2981CC790>, 'text_input': 'What is the man by the bags awaiting?', 'answers': ['ride', 'bus', 'taxi', 'travelling', 'traffic', 'cab', 'his ride'], 'weights': [0.2, 0.1, 0.2, 0.1, 0.1, 0.2, 0.1]}\n"
     ]
    }
   ],
   "source": [
    "from lavis.datasets.builders import load_dataset\n",
    "vqav2_dataset = load_dataset(\"aok_vqa\")\n",
    "print(vqav2_dataset.keys())\n",
    "print(len(vqav2_dataset[\"train\"]))\n",
    "print(vqav2_dataset[\"train\"][0])\n"
   ]
  },
  {
   "cell_type": "code",
   "execution_count": 6,
   "metadata": {},
   "outputs": [
    {
     "name": "stdout",
     "output_type": "stream",
     "text": [
      "Downloading https://storage.googleapis.com/sfr-vision-language-research/LAVIS/datasets/okvqa/okvqa_train.json to /home/v-boli7/azure_storage/data/lavis/okvqa/annotations/okvqa_train.json\n"
     ]
    },
    {
     "name": "stderr",
     "output_type": "stream",
     "text": [
      "100%|██████████| 2530489/2530489 [00:00<00:00, 76175726.40it/s]\n"
     ]
    },
    {
     "name": "stdout",
     "output_type": "stream",
     "text": [
      "Downloading https://storage.googleapis.com/sfr-vision-language-research/LAVIS/datasets/okvqa/okvqa_val_eval.json to /home/v-boli7/azure_storage/data/lavis/okvqa/annotations/vqa_val_eval.json\n"
     ]
    },
    {
     "name": "stderr",
     "output_type": "stream",
     "text": [
      "100%|██████████| 1389419/1389419 [00:00<00:00, 38321873.79it/s]\n"
     ]
    },
    {
     "name": "stdout",
     "output_type": "stream",
     "text": [
      "Downloading https://storage.googleapis.com/sfr-vision-language-research/LAVIS/datasets/okvqa/okvqa_answer_list_train.json to /home/v-boli7/azure_storage/data/lavis/okvqa/annotations/answer_list.json\n"
     ]
    },
    {
     "name": "stderr",
     "output_type": "stream",
     "text": [
      "100%|██████████| 152278/152278 [00:00<00:00, 9876756.68it/s]\n"
     ]
    },
    {
     "name": "stdout",
     "output_type": "stream",
     "text": [
      "Downloading https://storage.googleapis.com/sfr-vision-language-research/LAVIS/datasets/okvqa/OpenEnded_mscoco_val2014_questions.json to /home/v-boli7/azure_storage/data/lavis/okvqa/annotations/OpenEnded_mscoco_val2014_questions.json\n"
     ]
    },
    {
     "name": "stderr",
     "output_type": "stream",
     "text": [
      "100%|██████████| 521744/521744 [00:00<00:00, 20632965.43it/s]\n"
     ]
    },
    {
     "name": "stdout",
     "output_type": "stream",
     "text": [
      "Downloading https://storage.googleapis.com/sfr-vision-language-research/LAVIS/datasets/okvqa/mscoco_val2014_annotations.json to /home/v-boli7/azure_storage/data/lavis/okvqa/annotations/mscoco_val2014_annotations.json\n"
     ]
    },
    {
     "name": "stderr",
     "output_type": "stream",
     "text": [
      "100%|██████████| 8490544/8490544 [00:00<00:00, 12291234.65it/s]"
     ]
    },
    {
     "name": "stdout",
     "output_type": "stream",
     "text": [
      "{'image': <PIL.Image.Image image mode=RGB size=640x479 at 0x7FE183330730>, 'text_input': 'What is the hairstyle of the blond called?', 'answers': ['pony tail', 'braid', 'ponytail'], 'weights': [0.6, 0.2, 0.2]}\n"
     ]
    },
    {
     "name": "stderr",
     "output_type": "stream",
     "text": [
      "\n"
     ]
    }
   ],
   "source": [
    "okvqa_dataset = load_dataset(\"ok_vqa\")\n",
    "okvqa_train_set = okvqa_dataset['train']\n",
    "for sample in okvqa_train_set:\n",
    "    print(sample)\n",
    "    break"
   ]
  }
 ],
 "metadata": {
  "kernelspec": {
   "display_name": "openflamingo",
   "language": "python",
   "name": "python3"
  },
  "language_info": {
   "codemirror_mode": {
    "name": "ipython",
    "version": 3
   },
   "file_extension": ".py",
   "mimetype": "text/x-python",
   "name": "python",
   "nbconvert_exporter": "python",
   "pygments_lexer": "ipython3",
   "version": "3.9.16"
  },
  "orig_nbformat": 4
 },
 "nbformat": 4,
 "nbformat_minor": 2
}
